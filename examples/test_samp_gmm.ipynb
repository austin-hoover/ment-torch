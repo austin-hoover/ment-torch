{
 "cells": [
  {
   "cell_type": "code",
   "execution_count": null,
   "id": "35d893e9-b124-49e2-9c12-7c290433b9cb",
   "metadata": {},
   "outputs": [],
   "source": [
    "import torch"
   ]
  },
  {
   "cell_type": "code",
   "execution_count": null,
   "id": "8242d75b-daac-4536-865a-24a5acde9f3e",
   "metadata": {},
   "outputs": [],
   "source": [
    "class GaussianMixtureDistribution:\n",
    "    def __init__(self, locs: torch.Tensor, covs: torch.Tensor) -> None:        \n",
    "        self.dists = []\n",
    "        for loc, cov in zip(locs, covs):\n",
    "            dist = torch.distributions.MultivariateNormal(loc, cov)\n",
    "            self.dists.append(dist)\n",
    "\n",
    "        self.ndim = len(locs[0])\n",
    "        self.nmodes = len(self.dists)\n",
    "        \n",
    "    def sample(self, size: int) -> torch.Tensor:\n",
    "        sizes = torch.ones(self.nmodes) * (size // self.nmodes)\n",
    "        \n",
    "        indices = torch.arange(self.nmodes)\n",
    "        if self.nmodes > 1:\n",
    "            indices = indices[sizes > 0]\n",
    "\n",
    "        x = torch.empty(0, device=sizes.device)\n",
    "        for i in indices:\n",
    "            dist = self.dists[i]\n",
    "            size = int(sizes[i])\n",
    "            x_k = dist.sample((size,))\n",
    "            x = torch.cat((x, x_k), dim=0)\n",
    "        return x\n",
    "\n",
    "    def prob(self, x: torch.Tensor) -> None:\n",
    "        p = torch.zeros(x.shape[0])\n",
    "        for dist in self.dists:\n",
    "            p += torch.exp(dist.log_prob(x))\n",
    "        return p"
   ]
  },
  {
   "cell_type": "code",
   "execution_count": null,
   "id": "a813ea9a-6c64-4ea0-af0e-50398e60b0e8",
   "metadata": {},
   "outputs": [],
   "source": [
    "ndim = 2\n",
    "nmodes = 7\n",
    "seed = 11\n",
    "xmax = 7.0\n",
    "\n",
    "torch.manual_seed(seed)\n",
    "\n",
    "dist_locs = []\n",
    "dist_covs = []\n",
    "for _ in range(nmodes):\n",
    "    loc = 5.0 * (torch.rand(size=(ndim,)) - 0.5)\n",
    "    std = 1.0 * (torch.rand(size=(ndim,))) + 0.5\n",
    "    cov = torch.eye(ndim) * std**2\n",
    "    dist_locs.append(loc)\n",
    "    dist_covs.append(cov)"
   ]
  },
  {
   "cell_type": "code",
   "execution_count": null,
   "id": "ae7c89d5-240f-40bd-9510-94e96647c7b2",
   "metadata": {},
   "outputs": [],
   "source": []
  }
 ],
 "metadata": {
  "kernelspec": {
   "display_name": "ment-torch",
   "language": "python",
   "name": "ment-torch"
  },
  "language_info": {
   "codemirror_mode": {
    "name": "ipython",
    "version": 3
   },
   "file_extension": ".py",
   "mimetype": "text/x-python",
   "name": "python",
   "nbconvert_exporter": "python",
   "pygments_lexer": "ipython3",
   "version": "3.12.9"
  }
 },
 "nbformat": 4,
 "nbformat_minor": 5
}
