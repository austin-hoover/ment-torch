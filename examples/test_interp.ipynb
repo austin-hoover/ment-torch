{
 "cells": [
  {
   "cell_type": "code",
   "execution_count": null,
   "id": "690e1916-18f4-44f8-83cb-ee73cd17e960",
   "metadata": {},
   "outputs": [],
   "source": [
    "import matplotlib.pyplot as plt\n",
    "import torch\n",
    "\n",
    "import ment_torch"
   ]
  },
  {
   "cell_type": "code",
   "execution_count": null,
   "id": "9f419772-757b-4de3-8124-701cca975abe",
   "metadata": {},
   "outputs": [],
   "source": [
    "xmax = 5.0\n",
    "bins = 25\n",
    "\n",
    "coords = torch.linspace(-xmax, xmax, bins)\n",
    "values = torch.exp(-(coords**2)) + 0.5\n",
    "lfunc = ment_torch.LagrangeFunction(ndim=1, axis=0, coords=coords, values=values)\n",
    "\n",
    "x = torch.zeros((bins**2, 2))\n",
    "x[:, 0] = torch.linspace(-2.0 * xmax, 2.0 * xmax, x.shape[0])\n",
    "\n",
    "f = lfunc(x)\n",
    "\n",
    "fig, ax = plt.subplots(figsize=(4, 2))\n",
    "ax.plot(x[:, 0], f)\n",
    "ax.plot(coords, values, marker=\".\", lw=0)\n",
    "ax.set_ylim(-0.1, ax.get_ylim()[1])"
   ]
  },
  {
   "cell_type": "code",
   "execution_count": null,
   "id": "26f5dc81-ffb9-4b39-b13a-a69c8ba91499",
   "metadata": {},
   "outputs": [],
   "source": [
    "xmax = 5.0\n",
    "bins = 25\n",
    "\n",
    "coords = 2 * [torch.linspace(-xmax, xmax, bins)]\n",
    "values = torch.rand((bins, bins)) ** 2\n",
    "lfunc = ment_torch.LagrangeFunction(ndim=2, axis=(0, 1), coords=coords, values=values)\n",
    "\n",
    "new_scale = 2.0\n",
    "new_res = int(bins * new_scale)\n",
    "new_coords = 2 * [torch.linspace(-new_scale * xmax, new_scale * xmax, new_res)]\n",
    "x = torch.stack(\n",
    "    [c.ravel() for c in torch.meshgrid(*new_coords, indexing=\"ij\")], axis=-1\n",
    ")\n",
    "f = lfunc(x)\n",
    "\n",
    "new_values = f.reshape((new_res, new_res))\n",
    "\n",
    "fig, axs = plt.subplots(figsize=(6, 3), ncols=2, sharex=True, sharey=True)\n",
    "axs[1].pcolormesh(coords[0], coords[1], values.T, vmin=0.0)\n",
    "axs[0].pcolormesh(new_coords[0], new_coords[1], new_values.T, vmin=0.0)\n",
    "plt.show()"
   ]
  },
  {
   "cell_type": "code",
   "execution_count": null,
   "id": "863a0a18-142b-4326-915d-6dcbe195ffdc",
   "metadata": {},
   "outputs": [],
   "source": []
  },
  {
   "cell_type": "code",
   "execution_count": null,
   "id": "63a121a3-afed-4dff-80ac-ddc07fd0f700",
   "metadata": {},
   "outputs": [],
   "source": []
  }
 ],
 "metadata": {
  "kernelspec": {
   "display_name": "Python [conda env:ment-torch]",
   "language": "python",
   "name": "conda-env-ment-torch-py"
  },
  "language_info": {
   "codemirror_mode": {
    "name": "ipython",
    "version": 3
   },
   "file_extension": ".py",
   "mimetype": "text/x-python",
   "name": "python",
   "nbconvert_exporter": "python",
   "pygments_lexer": "ipython3",
   "version": "3.12.9"
  }
 },
 "nbformat": 4,
 "nbformat_minor": 5
}
