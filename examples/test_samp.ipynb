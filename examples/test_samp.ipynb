{
 "cells": [
  {
   "cell_type": "markdown",
   "id": "5a7f5aff-c878-42b1-94a8-b6c679da9780",
   "metadata": {},
   "source": [
    "# Test sampling algorithms"
   ]
  },
  {
   "cell_type": "code",
   "execution_count": null,
   "id": "8bae587c-ef7d-4e1a-aecc-c658c5ce6878",
   "metadata": {},
   "outputs": [],
   "source": [
    "import math\n",
    "\n",
    "import matplotlib.pyplot as plt\n",
    "import torch\n",
    "\n",
    "import ment_torch as ment"
   ]
  },
  {
   "cell_type": "code",
   "execution_count": null,
   "id": "1e4e6801-a3b2-4fc4-90c6-e9184d1c2650",
   "metadata": {},
   "outputs": [],
   "source": [
    "plt.style.use(\"style.mplstyle\")"
   ]
  },
  {
   "cell_type": "markdown",
   "id": "0ffc089f-9aba-4046-921c-6b73b0dcc0ae",
   "metadata": {},
   "source": [
    "## Create distribution"
   ]
  },
  {
   "cell_type": "code",
   "execution_count": null,
   "id": "de2e2a13-d6a5-4b2c-bb8a-8b04b6b2bbec",
   "metadata": {},
   "outputs": [],
   "source": [
    "class Distribution2D:\n",
    "    def __init__(self) -> None:\n",
    "        self.ndim = ndim\n",
    "\n",
    "    def prob(self, x: torch.Tensor) -> torch.Tensor:\n",
    "        raise NotImplementedError\n",
    "        \n",
    "    def prob_grid(self, shape: tuple[int], limits: list[tuple[float, float]]) -> torch.Tensor:\n",
    "        edges = [torch.linspace(limits[i][0], limits[i][1], shape[i] + 1) for i in range(self.ndim)]\n",
    "        coords = [0.5 * (e[:-1] + e[1:]) for e in edges]\n",
    "        points = torch.stack([c.ravel() for c in torch.meshgrid(*coords, indexing=\"ij\")], axis=-1)\n",
    "        values = self.prob(points)\n",
    "        values = values.reshape(shape)\n",
    "        return values, coords"
   ]
  },
  {
   "cell_type": "code",
   "execution_count": null,
   "id": "d9045915-7550-4ec7-b23a-5d52d2487489",
   "metadata": {},
   "outputs": [],
   "source": [
    "class RingDistribution(Distribution2D):\n",
    "    def __init__(self) -> None:\n",
    "        super().__init__()\n",
    "        \n",
    "    def prob(self, x: torch.Tensor) -> torch.Tensor:\n",
    "        x1 = x[..., 0]\n",
    "        x2 = x[..., 1]\n",
    "        log_prob = torch.sin(torch.pi * x1) - 2.0 * (x1**2 + x2**2 - 2.0)**2\n",
    "        return torch.exp(log_prob)"
   ]
  },
  {
   "cell_type": "code",
   "execution_count": null,
   "id": "d9e81616-8693-4294-9684-cf97a9ebb303",
   "metadata": {},
   "outputs": [],
   "source": [
    "# class GaussianMixtureDistribution(Distribution2D):\n",
    "#     def __init__(self, locs: torch.Tensor, covs: torch.Tensor) -> None:\n",
    "#         super().__init__()\n",
    "        \n",
    "#         self.dists = []\n",
    "#         for loc, cov in zip(locs, covs):\n",
    "#             dist = torch.distributions.MultivariateNormal(loc, cov)\n",
    "#             self.dists.append(dist)\n",
    "\n",
    "#         self.ndim = len(locs[0])\n",
    "#         self.nmodes = len(self.dists)\n",
    "        \n",
    "#     def sample(self, size: int) -> torch.Tensor:\n",
    "#         sizes = torch.ones(self.nmodes) * (size // self.nmodes)\n",
    "        \n",
    "#         indices = torch.arange(self.nmodes)\n",
    "#         if self.nmodes > 1:\n",
    "#             indices = indices[sizes > 0]\n",
    "\n",
    "#         x = torch.empty(0, device=sizes.device)\n",
    "#         for i in indices:\n",
    "#             dist = self.dists[i]\n",
    "#             size = int(sizes[i])\n",
    "#             x_k = dist.sample((size,))\n",
    "#             x = torch.cat((x, x_k), dim=0)\n",
    "#         return x\n",
    "\n",
    "#     def prob(self, x: torch.Tensor) -> None:\n",
    "#         p = torch.zeros(x.shape[0])\n",
    "#         for dist in self.dists:\n",
    "#             p += torch.exp(dist.log_prob(x))\n",
    "#         return p"
   ]
  },
  {
   "cell_type": "code",
   "execution_count": null,
   "id": "accf27bc-b233-4f7f-87a9-cf7981ca8cca",
   "metadata": {},
   "outputs": [],
   "source": [
    "ndim = 2\n",
    "nmodes = 7\n",
    "seed = 11\n",
    "# xmax = 7.0\n",
    "xmax = 3.0\n",
    "\n",
    "torch.manual_seed(seed)\n",
    "\n",
    "dist_locs = []\n",
    "dist_covs = []\n",
    "for _ in range(nmodes):\n",
    "    loc = 5.0 * (torch.rand(size=(ndim,)) - 0.5)\n",
    "    std = 1.0 * (torch.rand(size=(ndim,))) + 0.5\n",
    "    cov = torch.eye(ndim) * std**2\n",
    "    dist_locs.append(loc)\n",
    "    dist_covs.append(cov)\n",
    "    \n",
    "# dist = GaussianMixture(locs=dist_locs, covs=dist_covs)\n",
    "dist = RingDistribution()"
   ]
  },
  {
   "cell_type": "code",
   "execution_count": null,
   "id": "33aa8d92-a0f2-43bd-aaff-5b187ec1782b",
   "metadata": {},
   "outputs": [],
   "source": [
    "grid_limits = 2 * [(-xmax, xmax)]\n",
    "grid_shape = (128, 128)\n",
    "grid_values, grid_coords = dist.prob_grid(grid_shape, grid_limits)\n",
    "\n",
    "fig, ax = plt.subplots(figsize=(3, 3))\n",
    "ax.pcolormesh(grid_coords[0], grid_coords[1], grid_values.T)\n",
    "plt.show()"
   ]
  },
  {
   "cell_type": "markdown",
   "id": "5ba1e146-d2a2-4f62-b5fe-41d52dfe4627",
   "metadata": {},
   "source": [
    "## Sample"
   ]
  },
  {
   "cell_type": "code",
   "execution_count": null,
   "id": "6010e64e-6795-4f1e-806c-21a8f56811bf",
   "metadata": {},
   "outputs": [],
   "source": [
    "def plot_samples(x_pred: torch.Tensor) -> tuple:\n",
    "    fig, axs = plt.subplots(ncols=2, figsize=(6.0, 2.75), sharex=True, sharey=True)\n",
    "    axs[0].hist2d(x_pred[:, 0], x_pred[:, 1], bins=80, range=grid_limits)\n",
    "    axs[1].pcolormesh(grid_coords[0], grid_coords[1], grid_values.T)\n",
    "    axs[0].set_title(\"PRED\", fontsize=\"medium\")\n",
    "    axs[1].set_title(\"TRUE\", fontsize=\"medium\")\n",
    "    return fig, axs"
   ]
  },
  {
   "cell_type": "code",
   "execution_count": null,
   "id": "82439bc3-8736-4c02-ac84-cc532df45652",
   "metadata": {},
   "outputs": [],
   "source": [
    "size = 256_000"
   ]
  },
  {
   "cell_type": "markdown",
   "id": "b50eb5ba-50b8-403a-ba56-2442d632feb3",
   "metadata": {},
   "source": [
    "### Grid Sampling"
   ]
  },
  {
   "cell_type": "code",
   "execution_count": null,
   "id": "b8565b1e-ca37-47de-9b80-f92a4e0eee5c",
   "metadata": {},
   "outputs": [],
   "source": [
    "sampler = ment.GridSampler(\n",
    "    limits=grid_limits,\n",
    "    shape=grid_shape,\n",
    ")\n",
    "x_pred = sampler(dist.prob, size=size)"
   ]
  },
  {
   "cell_type": "code",
   "execution_count": null,
   "id": "d43f95e8-3165-4339-8915-6a133a71c319",
   "metadata": {},
   "outputs": [],
   "source": [
    "fig, axs = plot_samples(x_pred)\n",
    "plt.show()"
   ]
  },
  {
   "cell_type": "markdown",
   "id": "1ddc016a-86af-4d9b-9f14-6cf11b3051e8",
   "metadata": {},
   "source": [
    "## Metropolis-Hastings"
   ]
  },
  {
   "cell_type": "code",
   "execution_count": null,
   "id": "650e5e9f-7ce2-4cb7-a81b-a4cce35fd3ef",
   "metadata": {},
   "outputs": [],
   "source": [
    "sampler = ment.MetropolisHastingsSampler(\n",
    "    ndim=ndim,\n",
    "    proposal_cov=(0.05 * torch.eye(ndim)),\n",
    "    chains=50,\n",
    "    verbose=1,\n",
    ")\n",
    "x_pred = sampler(dist.prob, size=size)"
   ]
  },
  {
   "cell_type": "code",
   "execution_count": null,
   "id": "d89de0bc-25e2-4690-bc67-80b2a4263bf6",
   "metadata": {},
   "outputs": [],
   "source": [
    "sampler.results"
   ]
  },
  {
   "cell_type": "code",
   "execution_count": null,
   "id": "456d22c5-b4cf-4b80-98bc-48605598fb6a",
   "metadata": {},
   "outputs": [],
   "source": [
    "fig, axs = plot_samples(x_pred)\n",
    "plt.show()"
   ]
  },
  {
   "cell_type": "code",
   "execution_count": null,
   "id": "f60d759e-9af7-4cc4-9175-745c7fe44e22",
   "metadata": {},
   "outputs": [],
   "source": []
  }
 ],
 "metadata": {
  "kernelspec": {
   "display_name": "ment-torch",
   "language": "python",
   "name": "ment-torch"
  },
  "language_info": {
   "codemirror_mode": {
    "name": "ipython",
    "version": 3
   },
   "file_extension": ".py",
   "mimetype": "text/x-python",
   "name": "python",
   "nbconvert_exporter": "python",
   "pygments_lexer": "ipython3",
   "version": "3.12.9"
  }
 },
 "nbformat": 4,
 "nbformat_minor": 5
}
