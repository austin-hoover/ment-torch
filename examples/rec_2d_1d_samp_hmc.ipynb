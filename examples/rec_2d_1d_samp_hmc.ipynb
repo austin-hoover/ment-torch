{
 "cells": [
  {
   "cell_type": "markdown",
   "id": "30e88daa-0b7b-423b-8199-758ed3fee2ca",
   "metadata": {},
   "source": [
    "# 2:1 MENT"
   ]
  },
  {
   "cell_type": "code",
   "execution_count": 3,
   "id": "0771ec8e-e216-48aa-8051-4d34b7f17ec5",
   "metadata": {},
   "outputs": [],
   "source": [
    "import matplotlib.pyplot as plt\n",
    "import numpy as np\n",
    "import torch\n",
    "import zuko\n",
    "\n",
    "import ment_torch as ment"
   ]
  },
  {
   "cell_type": "code",
   "execution_count": 4,
   "id": "580145d7-4ef9-4011-b3b9-e32fcb3d7344",
   "metadata": {},
   "outputs": [],
   "source": [
    "plt.style.use(\"style.mplstyle\")"
   ]
  },
  {
   "cell_type": "markdown",
   "id": "644bcd47-3144-4a2f-a431-f126f7eeb6ac",
   "metadata": {},
   "source": [
    "## Settings"
   ]
  },
  {
   "cell_type": "code",
   "execution_count": 5,
   "id": "21288369-885f-4c3b-8266-e012e0942cd7",
   "metadata": {},
   "outputs": [],
   "source": [
    "dist_name = \"galaxy\"\n",
    "ndim = 2\n",
    "n_meas = 6\n",
    "n_bins = 80\n",
    "xmax = 6.0\n",
    "seed = 0"
   ]
  },
  {
   "cell_type": "markdown",
   "id": "19d73ee0-361d-4357-81f1-8db5c8371659",
   "metadata": {},
   "source": [
    "## Source distribution"
   ]
  },
  {
   "cell_type": "code",
   "execution_count": 6,
   "id": "edbcd1f2-5f4b-415c-afa8-7a95ccf16f98",
   "metadata": {},
   "outputs": [],
   "source": [
    "dist = ment.dist.get_dist(dist_name, ndim=ndim, seed=seed, normalize=True)\n",
    "x_true = dist.sample(1_000_000)\n",
    "x_true = x_true.float()"
   ]
  },
  {
   "cell_type": "code",
   "execution_count": 7,
   "id": "aff87657-9038-46b4-8676-8af388968236",
   "metadata": {},
   "outputs": [
    {
     "data": {
      "image/png": "[encoded data removed]",
      "text/plain": [
       "<Figure size 600x300 with 2 Axes>"
      ]
     },
     "metadata": {},
     "output_type": "display_data"
    }
   ],
   "source": [
    "limits = 2 * [(-xmax, xmax)]\n",
    "\n",
    "fig, axs = plt.subplots(ncols=2, figsize=(6.0, 3.0))\n",
    "for i, ax in enumerate(axs):\n",
    "    hist, edges = np.histogramdd(x_true.numpy(), bins=75, range=limits)\n",
    "    if i:\n",
    "        hist = np.log10(hist + 1.00e-15)\n",
    "    ax.pcolormesh(edges[0], edges[1], hist.T, vmin=(-3.0 if i else 0.0))"
   ]
  },
  {
   "cell_type": "markdown",
   "id": "69e54bbb-3053-4027-8b05-881923be8cc6",
   "metadata": {},
   "source": [
    "## Forward model"
   ]
  },
  {
   "cell_type": "code",
   "execution_count": 8,
   "id": "9f514e1b-781d-4237-94d8-0455335a36b3",
   "metadata": {},
   "outputs": [],
   "source": [
    "phase_advances = torch.linspace(0.0, np.pi, n_meas + 1)[:-1]\n",
    "\n",
    "transfer_matrices = []\n",
    "for phase_advance in phase_advances:\n",
    "    matrix = ment.utils.rotation_matrix(phase_advance)\n",
    "    matrix = matrix.float()\n",
    "    transfer_matrices.append(matrix)\n",
    "\n",
    "transforms = []\n",
    "for matrix in transfer_matrices:\n",
    "    transform = ment.sim.LinearTransform(matrix)\n",
    "    transforms.append(transform)\n",
    "\n",
    "bin_edges = torch.linspace(-xmax, xmax, n_bins + 1)\n",
    "\n",
    "diagnostics = []\n",
    "for transform in transforms:\n",
    "    diagnostic = ment.Histogram1D(axis=0, edges=bin_edges)\n",
    "    diagnostics.append([diagnostic])\n",
    "\n",
    "projections = ment.simulate(x_true, transforms, diagnostics)"
   ]
  },
  {
   "cell_type": "markdown",
   "id": "222fd641-3e76-4372-9976-a624c64d25df",
   "metadata": {},
   "source": [
    "## Reconstruction model"
   ]
  },
  {
   "cell_type": "code",
   "execution_count": null,
   "id": "8ddb763b-eca4-4963-89e4-38295c3d86d9",
   "metadata": {},
   "outputs": [],
   "source": [
    "prior = ment.GaussianPrior(ndim=2, scale=1.0)"
   ]
  },
  {
   "cell_type": "code",
   "execution_count": null,
   "id": "d3df8cd4-b997-4f62-a3b3-088591115524",
   "metadata": {},
   "outputs": [],
   "source": [
    "flow = zuko.flows.NSF(features=ndim, transforms=5, hidden_features=[64] * 3)\n",
    "flow = zuko.flows.Flow(flow.transform.inv, flow.base)  # fast sampling\n",
    "\n",
    "sampler = ment.samp.FlowSampler(\n",
    "    ndim=ndim,\n",
    "    flow=flow,\n",
    "    unnorm_matrix=torch.linalg.cholesky(torch.eye(ndim)),\n",
    "    train_kws=dict(\n",
    "        iters=1000,\n",
    "        batch_size=512,\n",
    "    ),\n",
    ")"
   ]
  },
  {
   "cell_type": "code",
   "execution_count": null,
   "id": "5ba4a8f2-5b27-4dce-867f-18b3ebb95c2c",
   "metadata": {},
   "outputs": [],
   "source": [
    "model = ment.MENT(\n",
    "    ndim=ndim,\n",
    "    transforms=transforms,\n",
    "    projections=projections,\n",
    "    prior=prior,\n",
    "    sampler=sampler,\n",
    "    nsamp=100_000,\n",
    "    verbose=1,\n",
    "    mode=\"forward\",\n",
    ")"
   ]
  },
  {
   "cell_type": "markdown",
   "id": "0495b322-ee71-4c34-adf2-1c63b5151aac",
   "metadata": {},
   "source": [
    "## Training"
   ]
  },
  {
   "cell_type": "code",
   "execution_count": null,
   "id": "59b726dd-9897-4c8d-9bb2-42b0694acf54",
   "metadata": {},
   "outputs": [],
   "source": [
    "def plot_model(model):\n",
    "    figs = []\n",
    "\n",
    "    # Plot reconstructed vs. true distribution.\n",
    "    x_pred = model.sample(1_000_000)\n",
    "    projections_true = ment.unravel(model.projections)\n",
    "    projections_pred = ment.unravel(\n",
    "        ment.simulate(x_pred, model.transforms, model.diagnostics)\n",
    "    )\n",
    "\n",
    "    fig, axs = plt.subplots(ncols=2, figsize=(6.0, 3.0))\n",
    "    for i, ax in enumerate(axs):\n",
    "        hist, edges = np.histogramdd(x_pred.numpy(), bins=75, range=limits)\n",
    "        if i:\n",
    "            hist = np.log10(hist + 1.00e-15)\n",
    "        ax.pcolormesh(edges[0], edges[1], hist.T, vmin=(-3.0 if i else 0.0))\n",
    "    figs.append(fig)\n",
    "\n",
    "    # Plot simulated vs. measured projections.\n",
    "    ncols = min(n_meas, 7)\n",
    "    nrows = int(np.ceil(n_meas / ncols))\n",
    "\n",
    "    for log in [False, True]:\n",
    "        fig, axs = plt.subplots(\n",
    "            ncols=ncols,\n",
    "            nrows=nrows,\n",
    "            figsize=(1.90 * ncols, 1.25 * nrows),\n",
    "            sharex=True,\n",
    "            sharey=True,\n",
    "        )\n",
    "        for index in range(len(projections_true)):\n",
    "            ax = axs[index]\n",
    "            proj_true = projections_true[index]\n",
    "            proj_pred = projections_pred[index]\n",
    "            scale = proj_true.values.max()\n",
    "            ax.plot(proj_true.coords, proj_true.values / scale, color=\"lightgray\")\n",
    "            ax.plot(\n",
    "                proj_pred.coords,\n",
    "                proj_pred.values / scale,\n",
    "                color=\"black\",\n",
    "                marker=\".\",\n",
    "                lw=0,\n",
    "                ms=1.0,\n",
    "            )\n",
    "            ax.set_ylim(ax.get_ylim()[0], 1.25)\n",
    "            ax.set_xlim(-xmax, xmax)\n",
    "            if log:\n",
    "                ax.set_yscale(\"log\")\n",
    "                ax.set_ylim(1.00e-05, 5.0)\n",
    "        figs.append(fig)\n",
    "\n",
    "    fig, ax = plt.subplots(figsize=(3, 2))\n",
    "    ax.plot(model.sampler.train_history[\"loss\"])\n",
    "    figs.append(fig)\n",
    "\n",
    "    return figs"
   ]
  },
  {
   "cell_type": "code",
   "execution_count": null,
   "id": "5a7d3ec0-49cc-4c09-ab2e-80200dbac429",
   "metadata": {},
   "outputs": [],
   "source": [
    "for epoch in range(5):\n",
    "    if epoch > 0:\n",
    "        model.gauss_seidel_step(learning_rate=0.75)\n",
    "\n",
    "    for fig in plot_model(model):\n",
    "        plt.show()"
   ]
  },
  {
   "cell_type": "code",
   "execution_count": null,
   "id": "8ceca713-70c9-4d6b-9675-7a84290297c5",
   "metadata": {},
   "outputs": [],
   "source": []
  }
 ],
 "metadata": {
  "kernelspec": {
   "display_name": "Python [conda env:cheetah]",
   "language": "python",
   "name": "conda-env-cheetah-py"
  },
  "language_info": {
   "codemirror_mode": {
    "name": "ipython",
    "version": 3
   },
   "file_extension": ".py",
   "mimetype": "text/x-python",
   "name": "python",
   "nbconvert_exporter": "python",
   "pygments_lexer": "ipython3",
   "version": "3.12.9"
  }
 },
 "nbformat": 4,
 "nbformat_minor": 5
}
