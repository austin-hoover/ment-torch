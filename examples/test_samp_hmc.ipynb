{
 "cells": [
  {
   "cell_type": "markdown",
   "id": "7928682d-bec5-4977-a16e-4ed693f7fd80",
   "metadata": {},
   "source": [
    "## Test HMC sampler"
   ]
  },
  {
   "cell_type": "code",
   "execution_count": null,
   "id": "61fab765-171f-4461-98b2-01f087d92356",
   "metadata": {},
   "outputs": [],
   "source": [
    "import torch\n",
    "import hamiltorch\n",
    "import matplotlib.pyplot as plt"
   ]
  },
  {
   "cell_type": "code",
   "execution_count": null,
   "id": "f0f7bab2-eff2-4a93-a0b0-f13b5a7b56ae",
   "metadata": {},
   "outputs": [],
   "source": [
    "def log_prob_func(x: torch.Tensor) -> torch.Tensor:\n",
    "    x1 = x[..., 0]\n",
    "    x2 = x[..., 1]\n",
    "    log_prob = torch.sin(torch.pi * x1) - 2.0 * (x1**2 + x2**2 - 2.0)**2\n",
    "    log_prob = torch.clamp(log_prob, -1.00e09, None)\n",
    "    return log_prob"
   ]
  },
  {
   "cell_type": "code",
   "execution_count": null,
   "id": "22d37de7-9b67-4f75-99bf-f05382a52244",
   "metadata": {
    "scrolled": true
   },
   "outputs": [],
   "source": [
    "hamiltorch.set_random_seed(123)\n",
    "\n",
    "ndim = 2\n",
    "nsamp = 10_000\n",
    "nsteps_per_samp = 5\n",
    "stepsize = 0.25\n",
    "\n",
    "x0 = torch.zeros(ndim)\n",
    "\n",
    "x = hamiltorch.sample(\n",
    "    log_prob_func=log_prob_func, \n",
    "    params_init=x0, \n",
    "    num_samples=nsamp,\n",
    "    step_size=stepsize, \n",
    "    num_steps_per_sample=nsteps_per_samp,\n",
    ")\n",
    "x = torch.vstack(x)"
   ]
  },
  {
   "cell_type": "code",
   "execution_count": null,
   "id": "a2fca103-c586-451c-87a4-a55caa200208",
   "metadata": {},
   "outputs": [],
   "source": [
    "bins = 64\n",
    "xmax = 3.0\n",
    "\n",
    "# Evaluate PDF on grid\n",
    "grid_edges = 2 * [torch.linspace(-xmax, xmax, bins + 1)]\n",
    "grid_coords = [0.5 * (e[:-1] + e[1:]) for e in grid_edges]\n",
    "grid_points = torch.stack([c.ravel() for c in torch.meshgrid(*grid_coords, indexing=\"ij\")], axis=-1)\n",
    "grid_values = torch.hstack([log_prob_func(point) for point in grid_points])\n",
    "grid_values = torch.exp(grid_values)\n",
    "grid_values = grid_values.reshape((bins, bins))\n",
    "\n",
    "fig, axs = plt.subplots(ncols=2, sharex=True, sharey=True, figsize=(4.5, 2))\n",
    "axs[0].hist2d(x[:, 0], x[:, 1], bins=grid_edges)\n",
    "axs[1].pcolormesh(grid_coords[0], grid_coords[0], grid_values.T)\n",
    "plt.show()"
   ]
  },
  {
   "cell_type": "code",
   "execution_count": null,
   "id": "b2e55a9a-b740-478f-9b45-d63549460055",
   "metadata": {},
   "outputs": [],
   "source": []
  }
 ],
 "metadata": {
  "kernelspec": {
   "display_name": "Python [conda env:cheetah]",
   "language": "python",
   "name": "conda-env-cheetah-py"
  },
  "language_info": {
   "codemirror_mode": {
    "name": "ipython",
    "version": 3
   },
   "file_extension": ".py",
   "mimetype": "text/x-python",
   "name": "python",
   "nbconvert_exporter": "python",
   "pygments_lexer": "ipython3",
   "version": "3.12.9"
  }
 },
 "nbformat": 4,
 "nbformat_minor": 5
}
